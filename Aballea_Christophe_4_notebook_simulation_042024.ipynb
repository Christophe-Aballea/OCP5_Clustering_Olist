{
 "cells": [
  {
   "cell_type": "markdown",
   "id": "ea4c6f55-5b17-4763-b36f-83e0bf55061d",
   "metadata": {},
   "source": [
    "# Segmentez des clients d'un site e-commerce\n",
    "## Notebook 4 : Simulation d'un contrat de maintenance\n",
    "OpenClassrooms - Parcours Data Scientist - Projet 05  "
   ]
  },
  {
   "cell_type": "markdown",
   "id": "fc1cfdab-dcbc-42fa-b57c-fb0e4b5eb056",
   "metadata": {},
   "source": [
    "## Présentation du projet"
   ]
  },
  {
   "cell_type": "markdown",
   "id": "f11bc9da-18d2-4843-9a6d-4b96990654b9",
   "metadata": {},
   "source": [
    "**Contexte**  \n"
   ]
  },
  {
   "cell_type": "markdown",
   "id": "d4205957-5bba-43f8-a2f2-d871dcce3816",
   "metadata": {},
   "source": [
    "* Olist est une entreprise brésilienne qui propose une solution de vente sur les marketplaces en ligne.  \n",
    "* Dans un premier temps il est demandé de réaliser quelques requêtes pour le dashboard à partir de la base de données SQLite d'Olist.  \n",
    "* La mission principale est de fournir aux équipes d'e-commerce d'Olist une **segmentation des clients** qu’elles pourront utiliser au quotidien pour leurs campagnes de communication.\n",
    "* Cette mission se concluera par la simulation d'un contrat de maintenance."
   ]
  },
  {
   "cell_type": "markdown",
   "id": "4f590377-a6bd-4306-8a42-bc9f546e600d",
   "metadata": {},
   "source": [
    "**Démarche globale**  \n",
    "* Requêtes SQL pour le dashboard (cf Notebook 1)  \n",
    "* Feature ingineering (cf Notebook 2)\n",
    "* Tests de modèles de clustering : (cf Notebook 3)  \n",
    "* **Simulation d'un contrat de maintenance** : c'est l'objet de ce notebook 4  "
   ]
  },
  {
   "cell_type": "markdown",
   "id": "3f36d822-9fe0-4ab4-adff-730bdd20d9b5",
   "metadata": {},
   "source": [
    "**Simulation d'un contrat de maintenance**  \n",
    "* Objectif : déterminer au bout de combien de temps le modèle retenu doit être réentrainé  \n",
    "* Démarche :\n",
    "  * Comparer les résultats du dernier clustering réalisé (fin août 2018) avec les prédictions d'un modèle entrainé X jours avant  \n",
    "  * La comparaison sera mesurée par le score ARI (Adjusted Rand Index) qui mesure la divergence entre clusters  \n",
    "  * Si les score obtenu est supérieur à 0.80, considérer que les prédictions sont suffisament fiables et retester avec les prédictions d'un modèle entraîné X jours avant\n",
    "  * Le délai avant de devoir réentraîner le modèle sera déterminé dès que le score ARI sera descendu sous le seuil de 0.80"
   ]
  },
  {
   "cell_type": "markdown",
   "id": "29863d34-c2d0-4a7d-b1d8-4b3399aa417e",
   "metadata": {},
   "source": [
    "## Sommaire  \n",
    "**Préparation de l'environnement**  \n",
    "* Environnement virtuel\n",
    "* Import des modules\n",
    "* Fonctions\n",
    "\n",
    "**Stratégie**  \n",
    "\n",
    "**Chargement des données**  \n",
    "\n",
    "**Calcul des scores ARI**  \n",
    "* Récupération des Labels D1 (réel)\n",
    "* Récupération des Labels D1 (simulation) et calcul des scores ARI\n",
    "* Visualisation"
   ]
  },
  {
   "cell_type": "markdown",
   "id": "a3daedac-dc34-4b68-b958-e528196786ac",
   "metadata": {},
   "source": [
    "# 1 Préparation de l'environnement"
   ]
  },
  {
   "cell_type": "markdown",
   "id": "56dc3b18-f0a9-4076-ae43-efea2838ad5a",
   "metadata": {},
   "source": [
    "## 1.1 Environnement virtuel"
   ]
  },
  {
   "cell_type": "code",
   "execution_count": 1,
   "id": "63ca94b3-ad4d-4ba5-a065-cf42153dece1",
   "metadata": {},
   "outputs": [
    {
     "name": "stdout",
     "output_type": "stream",
     "text": [
      "Environnement virtuel : C:\\Users\\chrab\\anaconda3\\envs\\opc5\n"
     ]
    }
   ],
   "source": [
    "# Vérification environnement virtuel\n",
    "envs = !conda env list\n",
    "print(f\"Environnement virtuel : {[e for e in envs if '*' in e][0].split('*')[1].strip()}\")"
   ]
  },
  {
   "cell_type": "markdown",
   "id": "ecd91d5d-e461-4d15-b1e0-b4b4af70e01a",
   "metadata": {},
   "source": [
    "## 1.2 Import des modules"
   ]
  },
  {
   "cell_type": "markdown",
   "id": "9b8911d8-a1d4-4360-a159-aa0faab09af8",
   "metadata": {},
   "source": [
    "* Installation conditionnelle des librairies"
   ]
  },
  {
   "cell_type": "code",
   "execution_count": 2,
   "id": "68d3c7d4-6b29-4ce2-a0f3-138bec6e4423",
   "metadata": {},
   "outputs": [],
   "source": [
    "import sys\n",
    "import subprocess\n",
    "import pkg_resources\n",
    "\n",
    "def install_package(package):\n",
    "    \"\"\"Installe une librairie en mode silencieux si elle n'est pas encore installée\"\"\"\n",
    "    try:\n",
    "        pkg_resources.get_distribution(package)\n",
    "    except pkg_resources.DistributionNotFound:\n",
    "        print(f\"Installation {package}... \", end='')\n",
    "        subprocess.check_call([sys.executable, \"-m\", \"pip\", \"install\", package, \"--quiet\"])\n",
    "        print(f\"Terminé.\")\n",
    "    else:\n",
    "        print(f\"{package} est déjà installé.\")"
   ]
  },
  {
   "cell_type": "code",
   "execution_count": 3,
   "id": "9c1c1f95-1ea6-4e16-a1fa-1373e5690402",
   "metadata": {},
   "outputs": [
    {
     "name": "stdout",
     "output_type": "stream",
     "text": [
      "pandas est déjà installé.\n",
      "scikit-learn est déjà installé.\n",
      "matplotlib est déjà installé.\n"
     ]
    }
   ],
   "source": [
    "# Installation des librairies\n",
    "install_package('pandas')\n",
    "install_package('scikit-learn')\n",
    "install_package('matplotlib')"
   ]
  },
  {
   "cell_type": "markdown",
   "id": "e7de9dbc-dc2b-47bc-be6d-532b5df308f2",
   "metadata": {},
   "source": [
    "* Import des modules"
   ]
  },
  {
   "cell_type": "code",
   "execution_count": 4,
   "id": "5df35763-b578-4caf-92a0-8ff572a0100f",
   "metadata": {},
   "outputs": [],
   "source": [
    "import pandas as pd\n",
    "import matplotlib.pyplot as plt\n",
    "import seaborn as sns\n",
    "from datetime import datetime, timedelta\n",
    "from sklearn.preprocessing import MinMaxScaler\n",
    "from sklearn.cluster import KMeans\n",
    "from sklearn.metrics import adjusted_rand_score"
   ]
  },
  {
   "cell_type": "markdown",
   "id": "549744d8-350c-4a38-93f6-a9ad909f83ad",
   "metadata": {},
   "source": [
    "## 1.3 Fonctions"
   ]
  },
  {
   "cell_type": "code",
   "execution_count": 5,
   "id": "b4d0266f-9c18-4642-82ce-b4ab48588371",
   "metadata": {},
   "outputs": [],
   "source": [
    "def get_RFM_features(df, end_date):\n",
    "    \"\"\"\n",
    "    Renvoie un dataframe contenant une ligne par client ayant commandé avant 'end_date' ainsi que les features :\n",
    "        - 'Récence'   : nombre de jours depuis la dernière commande\n",
    "        - 'Fréquence' : 0 si le client a passé une seule commande, 1 s'il en a passé plusieurs\n",
    "        - 'Montant'   : total des montants des commandes du client\n",
    "\n",
    "    Parameters:\n",
    "        df (pandas.DataFrame)      : DataFrame de features\n",
    "        end_date (pandas.datetime) : Date de fin (filtre)\n",
    "\n",
    "    Returns:\n",
    "        df_data (pandas.DataFrame) : DataFrame avec features RFM\n",
    "    \"\"\"\n",
    "    # Filtre sur la date de fin\n",
    "    mask = df['order_purchase_timestamp'] < end_date\n",
    "    \n",
    "    # Dernière date de commande\n",
    "    last_purchase_date = df.loc[mask, 'order_purchase_timestamp'].max()\n",
    "    \n",
    "    \n",
    "    # Préparation du dataframe\n",
    "    df_data = df.loc[mask].groupby('customer_unique_id').agg(\n",
    "        Récence = ('order_purchase_timestamp', 'max'),\n",
    "        Fréquence = ('customer_id', 'count'),\n",
    "        Montant = ('total_price', 'sum')\n",
    "    ).reset_index()\n",
    "    \n",
    "    # Récence\n",
    "    df_data['Récence'] = (last_purchase_date - df_data['Récence']).dt.days\n",
    "\n",
    "    # Fréquence\n",
    "    mask = df_data['Fréquence'] > 1\n",
    "    df_data['Fréquence'] = 0\n",
    "    df_data.loc[mask, 'Fréquence'] = 1\n",
    "\n",
    "    return df_data"
   ]
  },
  {
   "cell_type": "code",
   "execution_count": 6,
   "id": "ec066d1f-338e-4b83-805c-c789ecfbd988",
   "metadata": {},
   "outputs": [],
   "source": [
    "def add_transformed_RFM_features(df, recence_t=MinMaxScaler(), montant_t=MinMaxScaler()):\n",
    "    \"\"\"\n",
    "    Ajoute les features RFM transformées à df et renvoit les transformers utilisés\n",
    "\n",
    "    Parameters:\n",
    "        df (array-like)                 : Données\n",
    "        recence_t (sklearn.transformer) : Tarnsformer à appliquer à la feature Récence\n",
    "        montant_t (sklearn.transformer) : Tarnsformer à appliquer à la feature Montant\n",
    "        \n",
    "    Returns:\n",
    "        df (array-like)                 : Données\n",
    "        recence_t (sklearn.transformer) : Transformer appliqué à la feature Récence\n",
    "        montant_t (sklearn.transformer) : Transformer appliqué à la feature Montant\n",
    "    \n",
    "    \"\"\"\n",
    "    # Récence\n",
    "    recence_transformer = recence_t.fit(df[['Récence']])\n",
    "    df['Récence_minmax'] = recence_transformer.transform(df[['Récence']])\n",
    "\n",
    "    # Fréquence (valeurs déjà comprise entre 0 et 1)\n",
    "    df['Fréquence_minmax'] = df['Fréquence']\n",
    "\n",
    "    # Classement par intervalles de montants\n",
    "    bins = [0, 25, 50, 100, 150, 200, 250, 500, 1000, float('inf')]\n",
    "    labels = range(len(bins) - 1)\n",
    "    df['Montant_class'] = pd.cut(df['Montant'], bins=bins, labels=labels, right=False)\n",
    "    montant_transformer = montant_t.fit(df[['Montant_class']])\n",
    "    df['Montant_class_minmax'] = montant_transformer.transform(df[['Montant_class']])\n",
    "\n",
    "    return df, recence_transformer, montant_transformer"
   ]
  },
  {
   "cell_type": "markdown",
   "id": "c7bd11e5-40b5-4de2-90d8-719604a2037e",
   "metadata": {},
   "source": [
    "# 2 Stratégie"
   ]
  },
  {
   "cell_type": "markdown",
   "id": "3d04c5d6-068a-4ff9-8497-5203203d20b4",
   "metadata": {},
   "source": [
    "Simuler un contrat de maintenance, c’est **déterminer combien de temps le modèle entraîné peut rester performant.**  "
   ]
  },
  {
   "cell_type": "markdown",
   "id": "1a60fd22-4475-4ae7-bb29-9b57e98440b3",
   "metadata": {},
   "source": [
    "* **Comment déterminer cette \"performance\" ?**  \n",
    "   * Si on entraîne un modèle à la date D0 et qu’on utilise ce modèle entraîné pour prédire les segmentations à la date D1, il est possible de comparer ces prédictions avec la réalité, en réentraînant le modèle à la date D1.  \n",
    "   * Pour disposer du clustering réel en D1, il suffit de se positionner en D1, et de simuler une prédiction antérieure en D0, sur les données de D1.  \n",
    "   * On pourra donc comparer :  \n",
    "      * `modele_D0.predict(datas_D1).labels_` vs `model_D1.fit(datas_D1).labels_`\n",
    "      * avec `modele_D0 = KMeans(k=6).fit(datas_D0)`  \n",
    "   * Attention au fait que les datas_D0 sont en fait des données mises à l’échelle via `MinMaxScaler()`. Il faudra réutiliser la même instance de ce transformer sur les datas_D1 avant le predict pour obtenir une mise à l’échelle cohérente.  "
   ]
  },
  {
   "cell_type": "markdown",
   "id": "e9369346-a669-445e-ab38-a0c7be7a7d3f",
   "metadata": {},
   "source": [
    "* **Comment mesurer l’efficacité des prédictions ?**  \n",
    "   * SciKit-learn fournit la méthode `adjusted_rand_score()` qui mesure la divergence entre une liste de labels de clusters prédits et une liste de labels de clusters réels.  \n",
    "   * Cet indice est proche de 0 pour un clustering aléatoire, négatif pour un clustering particulièrement divergent, et est égal à 1 pour une prédiction parfaite.  \n",
    "   * Le score de **0.8** sera retenu comme seuil pour un clustering suffisamment efficace pour ne pas nécessiter de réentraîner le modèle.  "
   ]
  },
  {
   "cell_type": "markdown",
   "id": "a6acdd7f-677f-4f1a-ae18-ac0dd5ff6375",
   "metadata": {},
   "source": [
    "# 3 Chargement des données"
   ]
  },
  {
   "cell_type": "markdown",
   "id": "546d78d3-ad92-439f-9f49-5ed858d30220",
   "metadata": {},
   "source": [
    "* Lors de l'étape de feature ingineering (Notebook 2), un dasaset contenant une ligne par commande, avant transformation des features RFM a été préparé"
   ]
  },
  {
   "cell_type": "code",
   "execution_count": 7,
   "id": "95ae2d64-30c2-452b-b3ea-62f17aa495ae",
   "metadata": {},
   "outputs": [],
   "source": [
    "# Chargement du dataset\n",
    "df_features = pd.read_csv('df_data.csv')"
   ]
  },
  {
   "cell_type": "code",
   "execution_count": 8,
   "id": "2b3bf299-c30f-46c1-92b6-599d967dd484",
   "metadata": {},
   "outputs": [
    {
     "data": {
      "text/html": [
       "<div>\n",
       "<style scoped>\n",
       "    .dataframe tbody tr th:only-of-type {\n",
       "        vertical-align: middle;\n",
       "    }\n",
       "\n",
       "    .dataframe tbody tr th {\n",
       "        vertical-align: top;\n",
       "    }\n",
       "\n",
       "    .dataframe thead th {\n",
       "        text-align: right;\n",
       "    }\n",
       "</style>\n",
       "<table border=\"1\" class=\"dataframe\">\n",
       "  <thead>\n",
       "    <tr style=\"text-align: right;\">\n",
       "      <th></th>\n",
       "      <th>customer_unique_id</th>\n",
       "      <th>customer_id</th>\n",
       "      <th>order_id</th>\n",
       "      <th>order_purchase_timestamp</th>\n",
       "      <th>total_price</th>\n",
       "      <th>satisfaction</th>\n",
       "      <th>year_month</th>\n",
       "    </tr>\n",
       "  </thead>\n",
       "  <tbody>\n",
       "    <tr>\n",
       "      <th>0</th>\n",
       "      <td>861eff4711a542e4b93843c6dd7febb0</td>\n",
       "      <td>06b8999e2fba1a1fbc88172c00ba8bc7</td>\n",
       "      <td>00e7ee1b050b8499577073aeb2a297a1</td>\n",
       "      <td>2017-05-16</td>\n",
       "      <td>146.87</td>\n",
       "      <td>4.0</td>\n",
       "      <td>2017-05</td>\n",
       "    </tr>\n",
       "    <tr>\n",
       "      <th>1</th>\n",
       "      <td>290c77bc529b7ac935b93aa66c333dc3</td>\n",
       "      <td>18955e83d337fd6b2def6b18a428ac77</td>\n",
       "      <td>29150127e6685892b6eab3eec79f59c7</td>\n",
       "      <td>2018-01-12</td>\n",
       "      <td>335.48</td>\n",
       "      <td>5.0</td>\n",
       "      <td>2018-01</td>\n",
       "    </tr>\n",
       "    <tr>\n",
       "      <th>2</th>\n",
       "      <td>060e732b5b29e8181a18229c7b0b2b5e</td>\n",
       "      <td>4e7b3e00288586ebd08712fdd0374a03</td>\n",
       "      <td>b2059ed67ce144a36e2aa97d2c9e9ad2</td>\n",
       "      <td>2018-05-19</td>\n",
       "      <td>157.73</td>\n",
       "      <td>5.0</td>\n",
       "      <td>2018-05</td>\n",
       "    </tr>\n",
       "    <tr>\n",
       "      <th>3</th>\n",
       "      <td>259dac757896d24d7702b9acbbff3f3c</td>\n",
       "      <td>b2b6027bc5c5109e529d4dc6358b12c3</td>\n",
       "      <td>951670f92359f4fe4a63112aa7306eba</td>\n",
       "      <td>2018-03-13</td>\n",
       "      <td>173.30</td>\n",
       "      <td>5.0</td>\n",
       "      <td>2018-03</td>\n",
       "    </tr>\n",
       "    <tr>\n",
       "      <th>4</th>\n",
       "      <td>345ecd01c38d18a9036ed96c73b8d066</td>\n",
       "      <td>4f2d8ab171c80ec8364f7c12e35b23ad</td>\n",
       "      <td>6b7d50bd145f6fc7f33cebabd7e49d0f</td>\n",
       "      <td>2018-07-29</td>\n",
       "      <td>252.25</td>\n",
       "      <td>5.0</td>\n",
       "      <td>2018-07</td>\n",
       "    </tr>\n",
       "    <tr>\n",
       "      <th>...</th>\n",
       "      <td>...</td>\n",
       "      <td>...</td>\n",
       "      <td>...</td>\n",
       "      <td>...</td>\n",
       "      <td>...</td>\n",
       "      <td>...</td>\n",
       "      <td>...</td>\n",
       "    </tr>\n",
       "    <tr>\n",
       "      <th>97900</th>\n",
       "      <td>1a29b476fee25c95fbafc67c5ac95cf8</td>\n",
       "      <td>17ddf5dd5d51696bb3d7c6291687be6f</td>\n",
       "      <td>6760e20addcf0121e9d58f2f1ff14298</td>\n",
       "      <td>2018-04-07</td>\n",
       "      <td>88.78</td>\n",
       "      <td>4.0</td>\n",
       "      <td>2018-04</td>\n",
       "    </tr>\n",
       "    <tr>\n",
       "      <th>97901</th>\n",
       "      <td>d52a67c98be1cf6a5c84435bd38d095d</td>\n",
       "      <td>e7b71a9017aa05c9a7fd292d714858e8</td>\n",
       "      <td>9ec0c8947d973db4f4e8dcf1fbfa8f1b</td>\n",
       "      <td>2018-04-04</td>\n",
       "      <td>129.06</td>\n",
       "      <td>5.0</td>\n",
       "      <td>2018-04</td>\n",
       "    </tr>\n",
       "    <tr>\n",
       "      <th>97902</th>\n",
       "      <td>e9f50caf99f032f0bf3c55141f019d99</td>\n",
       "      <td>5e28dfe12db7fb50a4b2f691faecea5e</td>\n",
       "      <td>fed4434add09a6f332ea398efd656a5c</td>\n",
       "      <td>2018-04-08</td>\n",
       "      <td>56.04</td>\n",
       "      <td>1.0</td>\n",
       "      <td>2018-04</td>\n",
       "    </tr>\n",
       "    <tr>\n",
       "      <th>97903</th>\n",
       "      <td>73c2643a0a458b49f58cea58833b192e</td>\n",
       "      <td>56b18e2166679b8a959d72dd06da27f9</td>\n",
       "      <td>e31ec91cea1ecf97797787471f98a8c2</td>\n",
       "      <td>2017-11-03</td>\n",
       "      <td>711.07</td>\n",
       "      <td>5.0</td>\n",
       "      <td>2017-11</td>\n",
       "    </tr>\n",
       "    <tr>\n",
       "      <th>97904</th>\n",
       "      <td>84732c5050c01db9b23e19ba39899398</td>\n",
       "      <td>274fa6071e5e17fe303b9748641082c8</td>\n",
       "      <td>28db69209a75e59f20ccbb5c36a20b90</td>\n",
       "      <td>2017-12-19</td>\n",
       "      <td>21.77</td>\n",
       "      <td>5.0</td>\n",
       "      <td>2017-12</td>\n",
       "    </tr>\n",
       "  </tbody>\n",
       "</table>\n",
       "<p>97905 rows × 7 columns</p>\n",
       "</div>"
      ],
      "text/plain": [
       "                     customer_unique_id                       customer_id  \\\n",
       "0      861eff4711a542e4b93843c6dd7febb0  06b8999e2fba1a1fbc88172c00ba8bc7   \n",
       "1      290c77bc529b7ac935b93aa66c333dc3  18955e83d337fd6b2def6b18a428ac77   \n",
       "2      060e732b5b29e8181a18229c7b0b2b5e  4e7b3e00288586ebd08712fdd0374a03   \n",
       "3      259dac757896d24d7702b9acbbff3f3c  b2b6027bc5c5109e529d4dc6358b12c3   \n",
       "4      345ecd01c38d18a9036ed96c73b8d066  4f2d8ab171c80ec8364f7c12e35b23ad   \n",
       "...                                 ...                               ...   \n",
       "97900  1a29b476fee25c95fbafc67c5ac95cf8  17ddf5dd5d51696bb3d7c6291687be6f   \n",
       "97901  d52a67c98be1cf6a5c84435bd38d095d  e7b71a9017aa05c9a7fd292d714858e8   \n",
       "97902  e9f50caf99f032f0bf3c55141f019d99  5e28dfe12db7fb50a4b2f691faecea5e   \n",
       "97903  73c2643a0a458b49f58cea58833b192e  56b18e2166679b8a959d72dd06da27f9   \n",
       "97904  84732c5050c01db9b23e19ba39899398  274fa6071e5e17fe303b9748641082c8   \n",
       "\n",
       "                               order_id order_purchase_timestamp  total_price  \\\n",
       "0      00e7ee1b050b8499577073aeb2a297a1               2017-05-16       146.87   \n",
       "1      29150127e6685892b6eab3eec79f59c7               2018-01-12       335.48   \n",
       "2      b2059ed67ce144a36e2aa97d2c9e9ad2               2018-05-19       157.73   \n",
       "3      951670f92359f4fe4a63112aa7306eba               2018-03-13       173.30   \n",
       "4      6b7d50bd145f6fc7f33cebabd7e49d0f               2018-07-29       252.25   \n",
       "...                                 ...                      ...          ...   \n",
       "97900  6760e20addcf0121e9d58f2f1ff14298               2018-04-07        88.78   \n",
       "97901  9ec0c8947d973db4f4e8dcf1fbfa8f1b               2018-04-04       129.06   \n",
       "97902  fed4434add09a6f332ea398efd656a5c               2018-04-08        56.04   \n",
       "97903  e31ec91cea1ecf97797787471f98a8c2               2017-11-03       711.07   \n",
       "97904  28db69209a75e59f20ccbb5c36a20b90               2017-12-19        21.77   \n",
       "\n",
       "       satisfaction year_month  \n",
       "0               4.0    2017-05  \n",
       "1               5.0    2018-01  \n",
       "2               5.0    2018-05  \n",
       "3               5.0    2018-03  \n",
       "4               5.0    2018-07  \n",
       "...             ...        ...  \n",
       "97900           4.0    2018-04  \n",
       "97901           5.0    2018-04  \n",
       "97902           1.0    2018-04  \n",
       "97903           5.0    2017-11  \n",
       "97904           5.0    2017-12  \n",
       "\n",
       "[97905 rows x 7 columns]"
      ]
     },
     "metadata": {},
     "output_type": "display_data"
    }
   ],
   "source": [
    "# Affichage de quelques lignes\n",
    "display(df_features)"
   ]
  },
  {
   "cell_type": "code",
   "execution_count": 9,
   "id": "dd4beb73-338a-44a4-884c-392c4d9d17ab",
   "metadata": {},
   "outputs": [
    {
     "data": {
      "text/plain": [
       "94703"
      ]
     },
     "metadata": {},
     "output_type": "display_data"
    }
   ],
   "source": [
    "# Nombre de clients : doit être égal à 94703 (cf Notebook 2)\n",
    "display(df_features['customer_unique_id'].nunique())"
   ]
  },
  {
   "cell_type": "code",
   "execution_count": 10,
   "id": "3da29538-8000-47d4-a862-0043cad195a5",
   "metadata": {},
   "outputs": [
    {
     "data": {
      "text/html": [
       "<div>\n",
       "<style scoped>\n",
       "    .dataframe tbody tr th:only-of-type {\n",
       "        vertical-align: middle;\n",
       "    }\n",
       "\n",
       "    .dataframe tbody tr th {\n",
       "        vertical-align: top;\n",
       "    }\n",
       "\n",
       "    .dataframe thead th {\n",
       "        text-align: right;\n",
       "    }\n",
       "</style>\n",
       "<table border=\"1\" class=\"dataframe\">\n",
       "  <thead>\n",
       "    <tr style=\"text-align: right;\">\n",
       "      <th></th>\n",
       "      <th>index</th>\n",
       "      <th>0</th>\n",
       "    </tr>\n",
       "  </thead>\n",
       "  <tbody>\n",
       "    <tr>\n",
       "      <th>0</th>\n",
       "      <td>customer_unique_id</td>\n",
       "      <td>object</td>\n",
       "    </tr>\n",
       "    <tr>\n",
       "      <th>1</th>\n",
       "      <td>customer_id</td>\n",
       "      <td>object</td>\n",
       "    </tr>\n",
       "    <tr>\n",
       "      <th>2</th>\n",
       "      <td>order_id</td>\n",
       "      <td>object</td>\n",
       "    </tr>\n",
       "    <tr>\n",
       "      <th>3</th>\n",
       "      <td>order_purchase_timestamp</td>\n",
       "      <td>object</td>\n",
       "    </tr>\n",
       "    <tr>\n",
       "      <th>4</th>\n",
       "      <td>total_price</td>\n",
       "      <td>float64</td>\n",
       "    </tr>\n",
       "    <tr>\n",
       "      <th>5</th>\n",
       "      <td>satisfaction</td>\n",
       "      <td>float64</td>\n",
       "    </tr>\n",
       "    <tr>\n",
       "      <th>6</th>\n",
       "      <td>year_month</td>\n",
       "      <td>object</td>\n",
       "    </tr>\n",
       "  </tbody>\n",
       "</table>\n",
       "</div>"
      ],
      "text/plain": [
       "                      index        0\n",
       "0        customer_unique_id   object\n",
       "1               customer_id   object\n",
       "2                  order_id   object\n",
       "3  order_purchase_timestamp   object\n",
       "4               total_price  float64\n",
       "5              satisfaction  float64\n",
       "6                year_month   object"
      ]
     },
     "execution_count": 10,
     "metadata": {},
     "output_type": "execute_result"
    }
   ],
   "source": [
    "# Affichage des types de données\n",
    "df_features.dtypes.reset_index()"
   ]
  },
  {
   "cell_type": "markdown",
   "id": "e1022e3c-b143-4d83-a79b-c520cdb9c3b4",
   "metadata": {},
   "source": [
    "* Le type de données de la variable `order_purchase_timestamp` doit être transformé en type 'date'"
   ]
  },
  {
   "cell_type": "code",
   "execution_count": 11,
   "id": "4261befb-a8c7-4ec6-bf91-1b87ae07eb12",
   "metadata": {},
   "outputs": [],
   "source": [
    "# Conversion de la date d'achat au format datetime \"YYYY-MM-DD 00:00:00\"\n",
    "df_features['order_purchase_timestamp'] = pd.to_datetime(df_features['order_purchase_timestamp']).dt.normalize()"
   ]
  },
  {
   "cell_type": "markdown",
   "id": "f172eb75-1a54-45de-bb7c-5b83fc4d8743",
   "metadata": {},
   "source": [
    "# 4 Calcul des scores ARI - version présentée en soutenance"
   ]
  },
  {
   "cell_type": "code",
   "execution_count": 12,
   "id": "848e0998-984e-433f-b9ec-319ef255b833",
   "metadata": {},
   "outputs": [],
   "source": [
    "# Fréquence des simulations = 7 jours\n",
    "simul_frequency = pd.to_timedelta('7 Days')"
   ]
  },
  {
   "cell_type": "code",
   "execution_count": 13,
   "id": "e7e7e0dc-0b2c-4ea1-8c3e-dacb7076888e",
   "metadata": {},
   "outputs": [],
   "source": [
    "features = ['Récence_minmax', 'Fréquence_minmax', 'Montant_class_minmax']"
   ]
  },
  {
   "cell_type": "markdown",
   "id": "bd4aaa46-f922-4e85-b0c1-889a5255d78a",
   "metadata": {},
   "source": [
    "## 4.1 Récupération des Labels D1 (Réel)"
   ]
  },
  {
   "cell_type": "markdown",
   "id": "911ccb83-0e02-4d1c-8fd0-af0440da3c48",
   "metadata": {},
   "source": [
    "* On est en fin de période et on réalise un `fit_transform` pour réaliser une segmentation\n",
    "* Les labels de clusters récupérés serviront de points de comparaison avec les simulations"
   ]
  },
  {
   "cell_type": "code",
   "execution_count": 14,
   "id": "19e605d4-4e94-4e5b-ba41-69b7486aac98",
   "metadata": {},
   "outputs": [],
   "source": [
    "# Date D1\n",
    "d1_date = pd.to_datetime('2018-09-02')"
   ]
  },
  {
   "cell_type": "markdown",
   "id": "a8d14b21-0a83-4fd1-8508-486bbde0f925",
   "metadata": {},
   "source": [
    "* Calcul des features RFM en fonction de la date"
   ]
  },
  {
   "cell_type": "code",
   "execution_count": 15,
   "id": "ecef142d-5309-4cc3-a2c8-09272b66553f",
   "metadata": {},
   "outputs": [],
   "source": [
    "d1_RFM_features = get_RFM_features(df_features, d1_date)"
   ]
  },
  {
   "cell_type": "markdown",
   "id": "ebbc5b69-6994-4bd4-857c-ee082c41197b",
   "metadata": {},
   "source": [
    "* Transformations des features (classement des dépenses par tranches de montant, application des transformers MinMaxScaler)"
   ]
  },
  {
   "cell_type": "code",
   "execution_count": 16,
   "id": "41b69b31-cb5c-428a-801c-0b883df32c86",
   "metadata": {},
   "outputs": [],
   "source": [
    "d1_RFM_transformed_features, _, _ = add_transformed_RFM_features(d1_RFM_features)"
   ]
  },
  {
   "cell_type": "markdown",
   "id": "773f3d98-9b4d-48a3-b8c6-ea51e467f2eb",
   "metadata": {},
   "source": [
    "* Fit du modèle KMeans et récupérations des labels de clusters"
   ]
  },
  {
   "cell_type": "code",
   "execution_count": 17,
   "id": "600cf68b-fee8-4014-b911-393c7567f17a",
   "metadata": {},
   "outputs": [],
   "source": [
    "d1_kmeans = KMeans(n_clusters=6, random_state=0, init='k-means++')\n",
    "# d1_kmeans.fit(d1_RFM_transformed_features[features])\n",
    "d1_RFM_features['R-Labels'] = d1_kmeans.fit(d1_RFM_transformed_features[features]).labels_"
   ]
  },
  {
   "cell_type": "markdown",
   "id": "da2d6cba-ba69-4245-9b02-939f5b931f53",
   "metadata": {},
   "source": [
    "## 4.2 Récupération des Labels D1 (Simulation) et calculs des scores ARI"
   ]
  },
  {
   "cell_type": "markdown",
   "id": "38174b83-c00f-41d6-b8ae-2d79158590bf",
   "metadata": {},
   "source": [
    "* On se place 7 jours avant et on simule une prédiction avec un modèle entrainé en D0, sur les données D1"
   ]
  },
  {
   "cell_type": "code",
   "execution_count": 18,
   "id": "c846e2c1-0544-4816-b6ac-bdd514237188",
   "metadata": {},
   "outputs": [],
   "source": [
    "# Date de première simulation\n",
    "d0_date = d1_date - simul_frequency\n",
    "\n",
    "# Stockage des résultats ARI\n",
    "ari_scores = []"
   ]
  },
  {
   "cell_type": "code",
   "execution_count": 19,
   "id": "c7dd61be-10c3-4023-b7cb-72f95d4d42d7",
   "metadata": {},
   "outputs": [],
   "source": [
    "# Boucle sur les 52 dernière semaines (1 an)\n",
    "for i in range(52):\n",
    "    # Calcul des features RFM en fonction de la date de simulation\n",
    "    d0_RFM_features = get_RFM_features(df_features, d0_date)\n",
    "\n",
    "    # Transformation des features et résupération des transformers utilisés\n",
    "    d0_RFM_transformed_features, recence_transformer, montant_transformer = add_transformed_RFM_features(d0_RFM_features)\n",
    "\n",
    "    # Fit KMeans à la date de la simulation\n",
    "    d0_kmeans = KMeans(n_clusters=6, random_state=0, init='k-means++')\n",
    "    d0_kmeans.fit(d0_RFM_transformed_features[features])\n",
    "    \n",
    "    #--------------------\n",
    "\n",
    "    # Applications des transformers D0 aux données D1\n",
    "    d1_RFM_transformed_features_simul, _, _ = add_transformed_RFM_features(d1_RFM_features) #, recence_transformer, montant_transformer)\n",
    "\n",
    "    # Predict des labels sur les données D1 avec le modèle entraîné en D0\n",
    "    d1_RFM_features['P-Labels'] = d0_kmeans.predict(d1_RFM_transformed_features_simul[features])\n",
    "\n",
    "    # Calcul du score ARI entre labels prédits en D0 à partir des données D1, et labels obtenus en D1 sur données D1 (réel)\n",
    "    ari_score = adjusted_rand_score(d1_RFM_features['P-Labels'], d1_RFM_features['R-Labels'])\n",
    "\n",
    "    # Ajout des résultats à la listes des scores ARI\n",
    "    ari_scores.append((d0_date.strftime('%d-%m-%Y'), ari_score))\n",
    "\n",
    "    # Préparation de la simulation suivante en reculant D0 d'une semaine\n",
    "    d0_date -= simul_frequency"
   ]
  },
  {
   "cell_type": "markdown",
   "id": "cdcf92e8-ab29-4dd3-b58b-2cecdf76768a",
   "metadata": {},
   "source": [
    "* Conversion en DataFrame et inversion de l'ordre des lignes"
   ]
  },
  {
   "cell_type": "code",
   "execution_count": 20,
   "id": "3afe5b2e-9389-4c82-be49-57c22a15ac62",
   "metadata": {},
   "outputs": [],
   "source": [
    "df_ari_scores = pd.DataFrame(ari_scores, columns=['Date simulation', 'Score ARI'])\n",
    "df_ari_scores = df_ari_scores.sort_index(axis=0, ascending=False)"
   ]
  },
  {
   "cell_type": "markdown",
   "id": "b2a459a9-92b1-4955-8b6c-7af0c328124d",
   "metadata": {},
   "source": [
    "## 4.3 Visualisation"
   ]
  },
  {
   "cell_type": "code",
   "execution_count": 21,
   "id": "7d5d2009-098c-4cb7-a679-5501a29957d3",
   "metadata": {},
   "outputs": [
    {
     "data": {
      "image/png": "[encoded data removed]",
      "text/plain": [
       "<Figure size 1500x800 with 1 Axes>"
      ]
     },
     "metadata": {},
     "output_type": "display_data"
    }
   ],
   "source": [
    "# Affichage d'un graphique en barres\n",
    "plt.figure(figsize=(15, 8))\n",
    "sns.barplot(x=df_ari_scores['Date simulation'], y=df_ari_scores['Score ARI'], color='dodgerblue')\n",
    "\n",
    "# Ligne à 0.80\n",
    "plt.axhline(y=0.8, color='orange', linestyle='--', label='Seuil 0.8', linewidth=3)\n",
    "plt.xticks(rotation=45, ha='right')\n",
    "\n",
    "# Ajout des nombres de semaines en bas des barres\n",
    "for index, value in enumerate(df_ari_scores['Score ARI']):\n",
    "    plt.text(x=index, y=0.02, s=f'{len(df_ari_scores) - index}', ha='center', c='white')\n",
    "\n",
    "plt.title('Évolution des scores ARI par semaines', fontsize=14, pad=10)\n",
    "plt.xlabel('')\n",
    "plt.ylabel('Score ARI')\n",
    "plt.legend()\n",
    "plt.tight_layout()\n",
    "\n",
    "plt.show()"
   ]
  },
  {
   "cell_type": "markdown",
   "id": "95ddf615-81a5-4183-926f-6e5bc9cae764",
   "metadata": {},
   "source": [
    "# 5 Calcul des scores ARI - Version 2"
   ]
  },
  {
   "cell_type": "markdown",
   "id": "edee293c-39b6-4c32-b712-402854967a6b",
   "metadata": {},
   "source": [
    "* On part d'une labellisation KMeans avec des données jusqu'à D0 = 31/12/2017  \n",
    "* On calcule les scores ARI entre **model_d0 / transformers dn / données dn** et **model_dn / tranformers dn / données dn**, avec dn+1 = dn + 7 jours, de d0 = 31/12/2017 jusqu'à dn < 01/09/2018\n",
    "* Dans cette version les transformers sont réinitialisés à la date des données  "
   ]
  },
  {
   "cell_type": "code",
   "execution_count": 22,
   "id": "f6eff894-6682-4447-bd97-b4494da3bfd5",
   "metadata": {},
   "outputs": [],
   "source": [
    "# Fréquence des simulations = 7 jours\n",
    "simul_frequency = pd.to_timedelta('7 days')"
   ]
  },
  {
   "cell_type": "code",
   "execution_count": 23,
   "id": "d1d350ab-600a-40cd-8059-2e6c75e6ab57",
   "metadata": {},
   "outputs": [],
   "source": [
    "features = ['Récence_minmax', 'Fréquence_minmax', 'Montant_class_minmax']"
   ]
  },
  {
   "cell_type": "markdown",
   "id": "8b5ba3a8-0219-474e-b5ca-4bb7430ad46f",
   "metadata": {},
   "source": [
    "## 5.1 Modèle D0 (Réel)"
   ]
  },
  {
   "cell_type": "markdown",
   "id": "1bd66662-fcea-4836-bb60-98aac7225a09",
   "metadata": {},
   "source": [
    "* On se positionne le 31/12/2017\n",
    "* On entraine un modèle et on va rechercher combien de semaines ses prédictions sont fiables (score ARI > 0.8)"
   ]
  },
  {
   "cell_type": "code",
   "execution_count": 24,
   "id": "7394e8f0-20d9-4a51-977e-4d9595ec6668",
   "metadata": {},
   "outputs": [],
   "source": [
    "# Date D0\n",
    "d0_date = pd.to_datetime('2017-12-31')"
   ]
  },
  {
   "cell_type": "markdown",
   "id": "f2b259de-35c9-4949-8c8b-29e105441cdb",
   "metadata": {},
   "source": [
    "* Calcul des features RFM en fonction de la date"
   ]
  },
  {
   "cell_type": "code",
   "execution_count": 25,
   "id": "5c76a45d-8796-4aa1-bf1b-4ff5e86234db",
   "metadata": {},
   "outputs": [],
   "source": [
    "d0_RFM_features = get_RFM_features(df_features, d0_date)"
   ]
  },
  {
   "cell_type": "markdown",
   "id": "263dcc79-5902-49e7-af99-2f05d73001a1",
   "metadata": {},
   "source": [
    "* Transformations des features (classement des dépenses par tranches de montant, application des transformers MinMaxScaler)"
   ]
  },
  {
   "cell_type": "code",
   "execution_count": 26,
   "id": "d9da6b57-a0e9-4b5e-ae6d-ff6391862415",
   "metadata": {},
   "outputs": [],
   "source": [
    "d0_RFM_transformed_features, _, _ = add_transformed_RFM_features(d0_RFM_features)"
   ]
  },
  {
   "cell_type": "markdown",
   "id": "705e1aa0-c74c-4fb9-b27f-fd70ee39416f",
   "metadata": {},
   "source": [
    "* Fit et sauvegarde du modèle KMeans"
   ]
  },
  {
   "cell_type": "code",
   "execution_count": 27,
   "id": "d50298e6-0793-434c-a298-541bd90ccd74",
   "metadata": {},
   "outputs": [],
   "source": [
    "d0_kmeans = KMeans(n_clusters=6, random_state=0, init='k-means++')\n",
    "d0_kmeans_fitted = d0_kmeans.fit(d0_RFM_transformed_features[features])"
   ]
  },
  {
   "cell_type": "markdown",
   "id": "c2e53377-e348-4d76-8c74-d919b899b845",
   "metadata": {},
   "source": [
    "## 5.2 Calcul des scores ARI entre d0_kmeans.predict(d(n)_RFM_features) et d(n)_kmeans.fit(d(n)_RFM_features), avec d(n + 1) = d(n) + 7 jours "
   ]
  },
  {
   "cell_type": "markdown",
   "id": "9255b577-fd5d-480c-944f-90e3ef0340b5",
   "metadata": {},
   "source": [
    "* Boucle sur toutes les semaines suivant d0_date jusqu'au 31/08/2018 pour récupérer les labels de prédictions\n",
    "* On calcule et stocke le score ARI en entre d0.predict et dn.fit"
   ]
  },
  {
   "cell_type": "code",
   "execution_count": 28,
   "id": "470ac136-f646-4434-b468-4eab247b5474",
   "metadata": {},
   "outputs": [],
   "source": [
    "d_end_date = pd.to_datetime('2018-09-01')"
   ]
  },
  {
   "cell_type": "code",
   "execution_count": 29,
   "id": "0ac1a9ea-0833-47fa-b436-0101909f83e5",
   "metadata": {},
   "outputs": [],
   "source": [
    "# Stockage des résultats ARI\n",
    "ari_scores = []"
   ]
  },
  {
   "cell_type": "code",
   "execution_count": 30,
   "id": "08a6be3d-36ed-49d9-a884-3295ac010d06",
   "metadata": {},
   "outputs": [],
   "source": [
    "# Date de filtrage des données pour la première prédiction\n",
    "# En fixant la première date de prédiction à la date d0, on doit trouver un score ARI de 1 pour la première prédiction\n",
    "dn_date = d0_date\n",
    "\n",
    "# Boucle jusqu'à la fin de période\n",
    "while dn_date < d_end_date:\n",
    "    # Calcul des features RFM en fonction de la date des données de prédiction\n",
    "    dn_RFM_features = get_RFM_features(df_features, dn_date)\n",
    "\n",
    "    # Transformation des features avec réinitialisation des transformers\n",
    "    dn_RFM_transformed_features, _, _ = add_transformed_RFM_features(dn_RFM_features)\n",
    "\n",
    "    # Récupération des labels à la date dn_date\n",
    "    dn_kmeans = KMeans(n_clusters=6, random_state=0, init='k-means++')\n",
    "    dn_kmeans.fit(dn_RFM_transformed_features[features])\n",
    "    dn_RFM_features['Labels dn'] = dn_kmeans.labels_\n",
    "    \n",
    "    #--------------------\n",
    "\n",
    "    # Predict des labels sur les données dn_date avec le modèle entraîné en d0_date\n",
    "    dn_RFM_features['Labels d0'] = d0_kmeans.predict(dn_RFM_transformed_features[features])\n",
    "\n",
    "    # Calcul du score ARI\n",
    "    ari_score = adjusted_rand_score(dn_RFM_features['Labels d0'], dn_RFM_features['Labels dn'])\n",
    "\n",
    "    # Ajout des résultats à la listes des scores ARI\n",
    "    ari_scores.append((dn_date.strftime('%d-%m-%Y'), ari_score))\n",
    "\n",
    "    # Préparation de la simulation suivante en décalant dn_date d'1 semaine\n",
    "    dn_date += simul_frequency"
   ]
  },
  {
   "cell_type": "markdown",
   "id": "e2c966d2-5ea5-46ed-927d-0ad5bf21cb36",
   "metadata": {},
   "source": [
    "* Conversion en DataFrame"
   ]
  },
  {
   "cell_type": "code",
   "execution_count": 31,
   "id": "5edf7661-9664-46f8-95c5-60a23560e8ca",
   "metadata": {},
   "outputs": [],
   "source": [
    "df_ari_scores = pd.DataFrame(ari_scores, columns=['Date simulation', 'Score ARI'])"
   ]
  },
  {
   "cell_type": "markdown",
   "id": "30a2b6b7-812d-4d1b-94f1-78f466d4ba23",
   "metadata": {},
   "source": [
    "* Affichage des résultats"
   ]
  },
  {
   "cell_type": "code",
   "execution_count": 32,
   "id": "6c08a10b-8b2f-448c-9610-700c6bab5a04",
   "metadata": {},
   "outputs": [
    {
     "data": {
      "text/html": [
       "<div>\n",
       "<style scoped>\n",
       "    .dataframe tbody tr th:only-of-type {\n",
       "        vertical-align: middle;\n",
       "    }\n",
       "\n",
       "    .dataframe tbody tr th {\n",
       "        vertical-align: top;\n",
       "    }\n",
       "\n",
       "    .dataframe thead th {\n",
       "        text-align: right;\n",
       "    }\n",
       "</style>\n",
       "<table border=\"1\" class=\"dataframe\">\n",
       "  <thead>\n",
       "    <tr style=\"text-align: right;\">\n",
       "      <th></th>\n",
       "      <th>Date simulation</th>\n",
       "      <th>Score ARI</th>\n",
       "    </tr>\n",
       "  </thead>\n",
       "  <tbody>\n",
       "    <tr>\n",
       "      <th>0</th>\n",
       "      <td>31-12-2017</td>\n",
       "      <td>1.000000</td>\n",
       "    </tr>\n",
       "    <tr>\n",
       "      <th>1</th>\n",
       "      <td>07-01-2018</td>\n",
       "      <td>0.991896</td>\n",
       "    </tr>\n",
       "    <tr>\n",
       "      <th>2</th>\n",
       "      <td>14-01-2018</td>\n",
       "      <td>0.988122</td>\n",
       "    </tr>\n",
       "    <tr>\n",
       "      <th>3</th>\n",
       "      <td>21-01-2018</td>\n",
       "      <td>0.757095</td>\n",
       "    </tr>\n",
       "    <tr>\n",
       "      <th>4</th>\n",
       "      <td>28-01-2018</td>\n",
       "      <td>0.764628</td>\n",
       "    </tr>\n",
       "    <tr>\n",
       "      <th>5</th>\n",
       "      <td>04-02-2018</td>\n",
       "      <td>0.756842</td>\n",
       "    </tr>\n",
       "    <tr>\n",
       "      <th>6</th>\n",
       "      <td>11-02-2018</td>\n",
       "      <td>0.762808</td>\n",
       "    </tr>\n",
       "    <tr>\n",
       "      <th>7</th>\n",
       "      <td>18-02-2018</td>\n",
       "      <td>0.944488</td>\n",
       "    </tr>\n",
       "    <tr>\n",
       "      <th>8</th>\n",
       "      <td>25-02-2018</td>\n",
       "      <td>0.500742</td>\n",
       "    </tr>\n",
       "    <tr>\n",
       "      <th>9</th>\n",
       "      <td>04-03-2018</td>\n",
       "      <td>0.928653</td>\n",
       "    </tr>\n",
       "    <tr>\n",
       "      <th>10</th>\n",
       "      <td>11-03-2018</td>\n",
       "      <td>0.912883</td>\n",
       "    </tr>\n",
       "    <tr>\n",
       "      <th>11</th>\n",
       "      <td>18-03-2018</td>\n",
       "      <td>0.532025</td>\n",
       "    </tr>\n",
       "    <tr>\n",
       "      <th>12</th>\n",
       "      <td>25-03-2018</td>\n",
       "      <td>0.587348</td>\n",
       "    </tr>\n",
       "    <tr>\n",
       "      <th>13</th>\n",
       "      <td>01-04-2018</td>\n",
       "      <td>0.469512</td>\n",
       "    </tr>\n",
       "    <tr>\n",
       "      <th>14</th>\n",
       "      <td>08-04-2018</td>\n",
       "      <td>0.419871</td>\n",
       "    </tr>\n",
       "    <tr>\n",
       "      <th>15</th>\n",
       "      <td>15-04-2018</td>\n",
       "      <td>0.776249</td>\n",
       "    </tr>\n",
       "    <tr>\n",
       "      <th>16</th>\n",
       "      <td>22-04-2018</td>\n",
       "      <td>0.477055</td>\n",
       "    </tr>\n",
       "    <tr>\n",
       "      <th>17</th>\n",
       "      <td>29-04-2018</td>\n",
       "      <td>0.787326</td>\n",
       "    </tr>\n",
       "    <tr>\n",
       "      <th>18</th>\n",
       "      <td>06-05-2018</td>\n",
       "      <td>0.469301</td>\n",
       "    </tr>\n",
       "    <tr>\n",
       "      <th>19</th>\n",
       "      <td>13-05-2018</td>\n",
       "      <td>0.779015</td>\n",
       "    </tr>\n",
       "    <tr>\n",
       "      <th>20</th>\n",
       "      <td>20-05-2018</td>\n",
       "      <td>0.774223</td>\n",
       "    </tr>\n",
       "    <tr>\n",
       "      <th>21</th>\n",
       "      <td>27-05-2018</td>\n",
       "      <td>0.774443</td>\n",
       "    </tr>\n",
       "    <tr>\n",
       "      <th>22</th>\n",
       "      <td>03-06-2018</td>\n",
       "      <td>0.760182</td>\n",
       "    </tr>\n",
       "    <tr>\n",
       "      <th>23</th>\n",
       "      <td>10-06-2018</td>\n",
       "      <td>0.757461</td>\n",
       "    </tr>\n",
       "    <tr>\n",
       "      <th>24</th>\n",
       "      <td>17-06-2018</td>\n",
       "      <td>0.977880</td>\n",
       "    </tr>\n",
       "    <tr>\n",
       "      <th>25</th>\n",
       "      <td>24-06-2018</td>\n",
       "      <td>0.465485</td>\n",
       "    </tr>\n",
       "    <tr>\n",
       "      <th>26</th>\n",
       "      <td>01-07-2018</td>\n",
       "      <td>0.755171</td>\n",
       "    </tr>\n",
       "    <tr>\n",
       "      <th>27</th>\n",
       "      <td>08-07-2018</td>\n",
       "      <td>0.473149</td>\n",
       "    </tr>\n",
       "    <tr>\n",
       "      <th>28</th>\n",
       "      <td>15-07-2018</td>\n",
       "      <td>0.735934</td>\n",
       "    </tr>\n",
       "    <tr>\n",
       "      <th>29</th>\n",
       "      <td>22-07-2018</td>\n",
       "      <td>0.736348</td>\n",
       "    </tr>\n",
       "    <tr>\n",
       "      <th>30</th>\n",
       "      <td>29-07-2018</td>\n",
       "      <td>0.734965</td>\n",
       "    </tr>\n",
       "    <tr>\n",
       "      <th>31</th>\n",
       "      <td>05-08-2018</td>\n",
       "      <td>0.723224</td>\n",
       "    </tr>\n",
       "    <tr>\n",
       "      <th>32</th>\n",
       "      <td>12-08-2018</td>\n",
       "      <td>0.738078</td>\n",
       "    </tr>\n",
       "    <tr>\n",
       "      <th>33</th>\n",
       "      <td>19-08-2018</td>\n",
       "      <td>0.755138</td>\n",
       "    </tr>\n",
       "    <tr>\n",
       "      <th>34</th>\n",
       "      <td>26-08-2018</td>\n",
       "      <td>0.754467</td>\n",
       "    </tr>\n",
       "  </tbody>\n",
       "</table>\n",
       "</div>"
      ],
      "text/plain": [
       "   Date simulation  Score ARI\n",
       "0       31-12-2017   1.000000\n",
       "1       07-01-2018   0.991896\n",
       "2       14-01-2018   0.988122\n",
       "3       21-01-2018   0.757095\n",
       "4       28-01-2018   0.764628\n",
       "5       04-02-2018   0.756842\n",
       "6       11-02-2018   0.762808\n",
       "7       18-02-2018   0.944488\n",
       "8       25-02-2018   0.500742\n",
       "9       04-03-2018   0.928653\n",
       "10      11-03-2018   0.912883\n",
       "11      18-03-2018   0.532025\n",
       "12      25-03-2018   0.587348\n",
       "13      01-04-2018   0.469512\n",
       "14      08-04-2018   0.419871\n",
       "15      15-04-2018   0.776249\n",
       "16      22-04-2018   0.477055\n",
       "17      29-04-2018   0.787326\n",
       "18      06-05-2018   0.469301\n",
       "19      13-05-2018   0.779015\n",
       "20      20-05-2018   0.774223\n",
       "21      27-05-2018   0.774443\n",
       "22      03-06-2018   0.760182\n",
       "23      10-06-2018   0.757461\n",
       "24      17-06-2018   0.977880\n",
       "25      24-06-2018   0.465485\n",
       "26      01-07-2018   0.755171\n",
       "27      08-07-2018   0.473149\n",
       "28      15-07-2018   0.735934\n",
       "29      22-07-2018   0.736348\n",
       "30      29-07-2018   0.734965\n",
       "31      05-08-2018   0.723224\n",
       "32      12-08-2018   0.738078\n",
       "33      19-08-2018   0.755138\n",
       "34      26-08-2018   0.754467"
      ]
     },
     "metadata": {},
     "output_type": "display_data"
    }
   ],
   "source": [
    "display(df_ari_scores)"
   ]
  },
  {
   "cell_type": "markdown",
   "id": "2d85ded1-e869-443e-aaa0-5e53ec3b4fa7",
   "metadata": {},
   "source": [
    "* Dès la 3ème semaine le score ARI descend en dessous de 0.8"
   ]
  },
  {
   "cell_type": "markdown",
   "id": "532f5764-6b32-414b-9484-51e09761160f",
   "metadata": {},
   "source": [
    "## 5.3 Visualisation"
   ]
  },
  {
   "cell_type": "code",
   "execution_count": 33,
   "id": "392c9b9f-a90e-4767-8422-d500321d8bbf",
   "metadata": {},
   "outputs": [
    {
     "data": {
      "image/png": "[encoded data removed]",
      "text/plain": [
       "<Figure size 1500x800 with 1 Axes>"
      ]
     },
     "metadata": {},
     "output_type": "display_data"
    }
   ],
   "source": [
    "# Affichage d'un graphique en barres\n",
    "plt.figure(figsize=(15, 8))\n",
    "sns.barplot(x=df_ari_scores['Date simulation'], y=df_ari_scores['Score ARI'], color='dodgerblue')\n",
    "\n",
    "# Ligne à 0.80\n",
    "plt.axhline(y=0.8, color='orange', linestyle='--', label='Seuil 0.8', linewidth=3)\n",
    "plt.xticks(rotation=45, ha='right')\n",
    "\n",
    "# Ajout des nombres de semaines en bas des barres\n",
    "for index, value in enumerate(df_ari_scores['Score ARI']):\n",
    "    # plt.text(x=index, y=0.02, s=f'{len(df_ari_scores) - index}', ha='center', c='white')\n",
    "    plt.text(x=index, y=0.02, s=f'{index}', ha='center', c='white')\n",
    "\n",
    "plt.title('Évolution des scores ARI par semaines', fontsize=14, pad=10)\n",
    "plt.xlabel('')\n",
    "plt.ylabel('Score ARI')\n",
    "plt.legend()\n",
    "plt.tight_layout()\n",
    "\n",
    "plt.show()"
   ]
  },
  {
   "cell_type": "markdown",
   "id": "d7802b38-9785-4991-840e-6b0d8dbfece9",
   "metadata": {},
   "source": [
    "* Score ARI < 0.8 dès la 3ème semaine\n",
    "* Stabilité observée entre semaine 28 et semaine 34"
   ]
  },
  {
   "cell_type": "markdown",
   "id": "6502eed2-391f-4642-bb36-3627cb71f868",
   "metadata": {},
   "source": [
    "## 5.4 Un modèle entrainé le 15/07/2018 serait-il fiable jusqu'au 31/08/2018 ?"
   ]
  },
  {
   "cell_type": "markdown",
   "id": "7a8dab80-519d-420c-a6f4-4d6997b6da58",
   "metadata": {},
   "source": [
    "### 5.4.1 Préparation du modèle D0"
   ]
  },
  {
   "cell_type": "code",
   "execution_count": 34,
   "id": "5e305055-4bf0-4c5d-89de-0b8f385e826d",
   "metadata": {},
   "outputs": [],
   "source": [
    "# Date D0\n",
    "d0_date = pd.to_datetime('2018-07-15')"
   ]
  },
  {
   "cell_type": "code",
   "execution_count": 35,
   "id": "be49e8a7-6981-4279-82d7-97a56ef24f52",
   "metadata": {},
   "outputs": [],
   "source": [
    "# Calcul des features RFM à d0\n",
    "d0_RFM_features = get_RFM_features(df_features, d0_date)"
   ]
  },
  {
   "cell_type": "code",
   "execution_count": 36,
   "id": "e3920239-19a2-4066-8325-43181f1fc488",
   "metadata": {},
   "outputs": [],
   "source": [
    "# Transformations des features sans récupération des transformers\n",
    "d0_RFM_transformed_features, _, _ = add_transformed_RFM_features(d0_RFM_features)"
   ]
  },
  {
   "cell_type": "code",
   "execution_count": 37,
   "id": "a6b5a9a3-90c8-47fe-b5d8-83a3055ecf77",
   "metadata": {},
   "outputs": [],
   "source": [
    "# Fit et sauvegarde du modèle \n",
    "d0_kmeans = KMeans(n_clusters=6, random_state=0, init='k-means++')\n",
    "d0_kmeans_fitted = d0_kmeans.fit(d0_RFM_transformed_features[features])"
   ]
  },
  {
   "cell_type": "markdown",
   "id": "cc5fdd27-33e0-4091-996b-192820fc7909",
   "metadata": {},
   "source": [
    "### 5.4.2 Calcul des scores ARI"
   ]
  },
  {
   "cell_type": "code",
   "execution_count": 38,
   "id": "49297048-79f9-4a98-86b8-d6b2da554d8c",
   "metadata": {},
   "outputs": [],
   "source": [
    "d_end_date = pd.to_datetime('2018-09-01')"
   ]
  },
  {
   "cell_type": "code",
   "execution_count": 39,
   "id": "d485d5d0-9388-4883-87ed-68894becf598",
   "metadata": {},
   "outputs": [],
   "source": [
    "# Stockage des résultats ARI\n",
    "ari_scores = []"
   ]
  },
  {
   "cell_type": "code",
   "execution_count": 40,
   "id": "fda31c20-cfe4-40fb-9b17-746b7cdd3d2b",
   "metadata": {},
   "outputs": [],
   "source": [
    "# Date de filtrage des données pour la première prédiction\n",
    "# En fixant la première date de prédiction à la date d0, on doit trouver un score ARI de 1 pour la première prédiction\n",
    "dn_date = d0_date\n",
    "\n",
    "# Boucle jusqu'à la fin de période\n",
    "while dn_date < d_end_date:\n",
    "    # Calcul des features RFM en fonction de la date des données de prédiction\n",
    "    dn_RFM_features = get_RFM_features(df_features, dn_date)\n",
    "\n",
    "    # Transformation des features avec réinitialisation des transformers\n",
    "    dn_RFM_transformed_features, _, _ = add_transformed_RFM_features(dn_RFM_features)\n",
    "\n",
    "    # Récupération des labels à la date dn_date\n",
    "    dn_kmeans = KMeans(n_clusters=6, random_state=0, init='k-means++')\n",
    "    dn_kmeans.fit(dn_RFM_transformed_features[features])\n",
    "    dn_RFM_features['Labels dn'] = dn_kmeans.labels_\n",
    "    \n",
    "    #--------------------\n",
    "\n",
    "    # Predict des labels sur les données dn_date avec le modèle entraîné en d0_date\n",
    "    dn_RFM_features['Labels d0'] = d0_kmeans.predict(dn_RFM_transformed_features[features])\n",
    "\n",
    "    # Calcul du score ARI\n",
    "    ari_score = adjusted_rand_score(dn_RFM_features['Labels d0'], dn_RFM_features['Labels dn'])\n",
    "\n",
    "    # Ajout des résultats à la listes des scores ARI\n",
    "    ari_scores.append((dn_date.strftime('%d-%m-%Y'), ari_score))\n",
    "\n",
    "    # Préparation de la simulation suivante en décalant dn_date d'1 semaine\n",
    "    dn_date += simul_frequency"
   ]
  },
  {
   "cell_type": "markdown",
   "id": "1bd5d0ee-cb55-4d8d-b20e-66361030d206",
   "metadata": {},
   "source": [
    "* Conversion en DataFrame"
   ]
  },
  {
   "cell_type": "code",
   "execution_count": 41,
   "id": "8b1319f0-04cd-44ca-9d29-2c055dae59ef",
   "metadata": {},
   "outputs": [],
   "source": [
    "df_ari_scores = pd.DataFrame(ari_scores, columns=['Date simulation', 'Score ARI'])"
   ]
  },
  {
   "cell_type": "markdown",
   "id": "98b66fd3-7d50-4b68-a438-7a3b5be0b006",
   "metadata": {},
   "source": [
    "* Affichage des résultats"
   ]
  },
  {
   "cell_type": "code",
   "execution_count": 42,
   "id": "3bd3efb6-e1a8-45d7-9356-f53a8108f5e0",
   "metadata": {},
   "outputs": [
    {
     "data": {
      "text/html": [
       "<div>\n",
       "<style scoped>\n",
       "    .dataframe tbody tr th:only-of-type {\n",
       "        vertical-align: middle;\n",
       "    }\n",
       "\n",
       "    .dataframe tbody tr th {\n",
       "        vertical-align: top;\n",
       "    }\n",
       "\n",
       "    .dataframe thead th {\n",
       "        text-align: right;\n",
       "    }\n",
       "</style>\n",
       "<table border=\"1\" class=\"dataframe\">\n",
       "  <thead>\n",
       "    <tr style=\"text-align: right;\">\n",
       "      <th></th>\n",
       "      <th>Date simulation</th>\n",
       "      <th>Score ARI</th>\n",
       "    </tr>\n",
       "  </thead>\n",
       "  <tbody>\n",
       "    <tr>\n",
       "      <th>0</th>\n",
       "      <td>15-07-2018</td>\n",
       "      <td>1.000000</td>\n",
       "    </tr>\n",
       "    <tr>\n",
       "      <th>1</th>\n",
       "      <td>22-07-2018</td>\n",
       "      <td>0.986575</td>\n",
       "    </tr>\n",
       "    <tr>\n",
       "      <th>2</th>\n",
       "      <td>29-07-2018</td>\n",
       "      <td>0.986939</td>\n",
       "    </tr>\n",
       "    <tr>\n",
       "      <th>3</th>\n",
       "      <td>05-08-2018</td>\n",
       "      <td>0.988861</td>\n",
       "    </tr>\n",
       "    <tr>\n",
       "      <th>4</th>\n",
       "      <td>12-08-2018</td>\n",
       "      <td>0.973610</td>\n",
       "    </tr>\n",
       "    <tr>\n",
       "      <th>5</th>\n",
       "      <td>19-08-2018</td>\n",
       "      <td>0.960012</td>\n",
       "    </tr>\n",
       "    <tr>\n",
       "      <th>6</th>\n",
       "      <td>26-08-2018</td>\n",
       "      <td>0.955367</td>\n",
       "    </tr>\n",
       "  </tbody>\n",
       "</table>\n",
       "</div>"
      ],
      "text/plain": [
       "  Date simulation  Score ARI\n",
       "0      15-07-2018   1.000000\n",
       "1      22-07-2018   0.986575\n",
       "2      29-07-2018   0.986939\n",
       "3      05-08-2018   0.988861\n",
       "4      12-08-2018   0.973610\n",
       "5      19-08-2018   0.960012\n",
       "6      26-08-2018   0.955367"
      ]
     },
     "metadata": {},
     "output_type": "display_data"
    }
   ],
   "source": [
    "display(df_ari_scores)"
   ]
  },
  {
   "cell_type": "markdown",
   "id": "72f3cf4e-0d65-46f7-ba9d-dd155768300c",
   "metadata": {},
   "source": [
    "* Le score ARI reste stable sur toute la période, sans descendre au dessous de 0.95"
   ]
  },
  {
   "cell_type": "markdown",
   "id": "14b7ff76-33e3-4fd4-8c5a-d37fd03eb98a",
   "metadata": {},
   "source": [
    "### 5.4.3 Visualisation"
   ]
  },
  {
   "cell_type": "code",
   "execution_count": 43,
   "id": "7be85a22-d159-4259-889c-781be446928e",
   "metadata": {},
   "outputs": [
    {
     "data": {
      "image/png": "[encoded data removed]",
      "text/plain": [
       "<Figure size 1500x800 with 1 Axes>"
      ]
     },
     "metadata": {},
     "output_type": "display_data"
    }
   ],
   "source": [
    "# Affichage d'un graphique en barres\n",
    "plt.figure(figsize=(15, 8))\n",
    "sns.barplot(x=df_ari_scores['Date simulation'], y=df_ari_scores['Score ARI'], color='dodgerblue')\n",
    "\n",
    "# Ligne à 0.80\n",
    "plt.axhline(y=0.8, color='orange', linestyle='--', label='Seuil 0.8', linewidth=3)\n",
    "plt.xticks(rotation=45, ha='right')\n",
    "\n",
    "# Ajout des nombres de semaines en bas des barres\n",
    "for index, value in enumerate(df_ari_scores['Score ARI']):\n",
    "    # plt.text(x=index, y=0.02, s=f'{len(df_ari_scores) - index}', ha='center', c='white')\n",
    "    plt.text(x=index, y=0.02, s=f'{index}', ha='center', c='white')\n",
    "\n",
    "plt.title('Évolution des scores ARI par semaines', fontsize=14, pad=10)\n",
    "plt.xlabel('')\n",
    "plt.ylabel('Score ARI')\n",
    "plt.legend()\n",
    "plt.tight_layout()\n",
    "\n",
    "plt.show()"
   ]
  },
  {
   "cell_type": "markdown",
   "id": "fc1f9be8-c802-44c9-9b34-b929fe643609",
   "metadata": {},
   "source": [
    "### 5.4.4 Conclusion"
   ]
  },
  {
   "cell_type": "markdown",
   "id": "c9bdf436-5358-4c48-a80c-cbfa6a457737",
   "metadata": {},
   "source": [
    "* Malgré une excellente peformance des prédictions sur les 6 dernières semaines, un modèle entraîné fin 2017 a montré une qualité de prédiction fortement dégradée au bout de 3 semaines\n",
    "* Recommandation : réentraîner le modèle tous les 15 jours"
   ]
  },
  {
   "cell_type": "markdown",
   "id": "58c5612f-acb7-45da-8eb4-ac7e942b62e5",
   "metadata": {},
   "source": [
    "# 6 Calcul des scores ARI - Version 3"
   ]
  },
  {
   "cell_type": "markdown",
   "id": "1e5f33ff-3b96-4ac7-b2ad-1045fbd02e0a",
   "metadata": {},
   "source": [
    "* On part d'une labellisation KMeans avec des données jusqu'à D0 = 31/12/2017  \n",
    "* On calcule les scores ARI entre **model_d0 / transformers d0 / données dn** et **model_dn / tranformers dn / données dn**, avec dn+1 = dn + 7 jours, de d0 = 31/12/2017 jusqu'à dn < 01/09/2018\n",
    "* Dans cette version les transformers d0 sont conservés pour préparer les données dn avant prédiction  "
   ]
  },
  {
   "cell_type": "code",
   "execution_count": 44,
   "id": "4d0e057c-3272-439c-a42b-93b642f251f9",
   "metadata": {},
   "outputs": [],
   "source": [
    "# Fréquence des simulations = 7 jours\n",
    "simul_frequency = pd.to_timedelta('7 days')"
   ]
  },
  {
   "cell_type": "code",
   "execution_count": 45,
   "id": "5eb1f00e-622a-4fef-a55e-787dae4d6a3c",
   "metadata": {},
   "outputs": [],
   "source": [
    "features = ['Récence_minmax', 'Fréquence_minmax', 'Montant_class_minmax']"
   ]
  },
  {
   "cell_type": "markdown",
   "id": "d22679fc-2b44-4831-acf4-ea6c3f1525fc",
   "metadata": {},
   "source": [
    "## 6.1 Modèle D0 (Réel)"
   ]
  },
  {
   "cell_type": "markdown",
   "id": "b5ad9b8a-1b64-45ec-a397-b82bc554e51e",
   "metadata": {},
   "source": [
    "* On se positionne le 31/12/2017\n",
    "* On entraine un modèle et on va rechercher combien de semaines ses prédictions sont fiables (score ARI > 0.8)"
   ]
  },
  {
   "cell_type": "code",
   "execution_count": 46,
   "id": "4286a902-bb47-4da6-971b-e955d97b8f43",
   "metadata": {},
   "outputs": [],
   "source": [
    "# Date D0\n",
    "d0_date = pd.to_datetime('2017-12-31')"
   ]
  },
  {
   "cell_type": "markdown",
   "id": "cf0da52e-27df-40e0-9bfb-679cbd56bba7",
   "metadata": {},
   "source": [
    "* Calcul des features RFM en fonction de la date"
   ]
  },
  {
   "cell_type": "code",
   "execution_count": 47,
   "id": "1a38f96a-0f7d-4253-8e92-1ad904e5ba18",
   "metadata": {},
   "outputs": [],
   "source": [
    "d0_RFM_features = get_RFM_features(df_features, d0_date)"
   ]
  },
  {
   "cell_type": "markdown",
   "id": "6e27eeb3-d309-44bf-be00-0d518cc96960",
   "metadata": {},
   "source": [
    "* Transformations des features (classement des dépenses par tranches de montant, application et **conservation** des transformers MinMaxScaler)"
   ]
  },
  {
   "cell_type": "code",
   "execution_count": 48,
   "id": "144380fd-f376-4f2e-a7e0-d737357eb928",
   "metadata": {},
   "outputs": [],
   "source": [
    "d0_RFM_transformed_features, d0_recence_scaler, d0_montant_scaler = add_transformed_RFM_features(d0_RFM_features)"
   ]
  },
  {
   "cell_type": "markdown",
   "id": "31705d2c-6757-41e8-a300-d77356badf55",
   "metadata": {},
   "source": [
    "* Fit et sauvegarde du modèle KMeans"
   ]
  },
  {
   "cell_type": "code",
   "execution_count": 49,
   "id": "9e50a185-5a3b-493c-b7ec-f5ea910e43f1",
   "metadata": {},
   "outputs": [],
   "source": [
    "d0_kmeans = KMeans(n_clusters=6, random_state=0, init='k-means++')\n",
    "d0_kmeans_fitted = d0_kmeans.fit(d0_RFM_transformed_features[features])"
   ]
  },
  {
   "cell_type": "markdown",
   "id": "dfcc5cb1-3d4f-4885-9491-dc2c77df28b3",
   "metadata": {},
   "source": [
    "## 6.2 Calcul des scores ARI entre d0_kmeans.predict(d(n)_RFM_features) et d(n)_kmeans.fit(d(n)_RFM_features), avec d(n + 1) = d(n) + 7 jours "
   ]
  },
  {
   "cell_type": "markdown",
   "id": "e5aae282-5755-4084-b0af-b8a7e5e7392f",
   "metadata": {},
   "source": [
    "* Boucle sur toutes les semaines suivant d0_date jusqu'au 31/08/2018 pour récupérer les labels de prédictions\n",
    "* On calcule et stocke le score ARI en entre d0.predict et dn.fit"
   ]
  },
  {
   "cell_type": "code",
   "execution_count": 50,
   "id": "9b6d1e9d-45e5-44eb-8fc5-d6cb1e84c08d",
   "metadata": {},
   "outputs": [],
   "source": [
    "d_end_date = pd.to_datetime('2018-09-01')"
   ]
  },
  {
   "cell_type": "code",
   "execution_count": 51,
   "id": "8deba723-f523-4caa-8f0e-6ee42d04d343",
   "metadata": {},
   "outputs": [],
   "source": [
    "# Stockage des résultats ARI\n",
    "ari_scores = []"
   ]
  },
  {
   "cell_type": "code",
   "execution_count": 52,
   "id": "c3fe81d6-8b5e-4bae-a6f6-86781a70228e",
   "metadata": {},
   "outputs": [],
   "source": [
    "# Date de filtrage des données pour la première prédiction\n",
    "# En fixant la première date de prédiction à la date d0, on doit trouver un score ARI de 1 pour la première prédiction\n",
    "dn_date = d0_date\n",
    "\n",
    "# Boucle jusqu'à la fin de période\n",
    "while dn_date < d_end_date:\n",
    "    # Calcul des features RFM en fonction de la date des données de prédiction\n",
    "    dn_RFM_features = get_RFM_features(df_features, dn_date)\n",
    "\n",
    "    # Transformation des features en utilisant les transformers d0\n",
    "    dn_RFM_transformed_features, _, _ = add_transformed_RFM_features(dn_RFM_features, d0_recence_scaler, d0_montant_scaler)\n",
    "\n",
    "    # Récupération des labels à la date dn_date\n",
    "    dn_kmeans = KMeans(n_clusters=6, random_state=0, init='k-means++')\n",
    "    dn_kmeans.fit(dn_RFM_transformed_features[features])\n",
    "    dn_RFM_features['Labels dn'] = dn_kmeans.labels_\n",
    "    \n",
    "    #--------------------\n",
    "\n",
    "    # Predict des labels sur les données dn_date avec le modèle entraîné en d0_date\n",
    "    dn_RFM_features['Labels d0'] = d0_kmeans.predict(dn_RFM_transformed_features[features])\n",
    "\n",
    "    # Calcul du score ARI\n",
    "    ari_score = adjusted_rand_score(dn_RFM_features['Labels d0'], dn_RFM_features['Labels dn'])\n",
    "\n",
    "    # Ajout des résultats à la listes des scores ARI\n",
    "    ari_scores.append((dn_date.strftime('%d-%m-%Y'), ari_score))\n",
    "\n",
    "    # Préparation de la simulation suivante en décalant dn_date d'1 semaine\n",
    "    dn_date += simul_frequency"
   ]
  },
  {
   "cell_type": "markdown",
   "id": "7bef2c16-c6cc-42bd-800e-bdd38cb99a57",
   "metadata": {},
   "source": [
    "* Conversion en DataFrame"
   ]
  },
  {
   "cell_type": "code",
   "execution_count": 53,
   "id": "1e60c455-13c6-4271-b748-b94b2c7c29c8",
   "metadata": {},
   "outputs": [],
   "source": [
    "df_ari_scores = pd.DataFrame(ari_scores, columns=['Date simulation', 'Score ARI'])"
   ]
  },
  {
   "cell_type": "markdown",
   "id": "827b7c59-b8d0-48b8-85b8-bec24743168d",
   "metadata": {},
   "source": [
    "* Affichage des résultats"
   ]
  },
  {
   "cell_type": "code",
   "execution_count": 54,
   "id": "09d0a548-e45f-4db6-92b1-815ae9e1d790",
   "metadata": {},
   "outputs": [
    {
     "data": {
      "text/html": [
       "<div>\n",
       "<style scoped>\n",
       "    .dataframe tbody tr th:only-of-type {\n",
       "        vertical-align: middle;\n",
       "    }\n",
       "\n",
       "    .dataframe tbody tr th {\n",
       "        vertical-align: top;\n",
       "    }\n",
       "\n",
       "    .dataframe thead th {\n",
       "        text-align: right;\n",
       "    }\n",
       "</style>\n",
       "<table border=\"1\" class=\"dataframe\">\n",
       "  <thead>\n",
       "    <tr style=\"text-align: right;\">\n",
       "      <th></th>\n",
       "      <th>Date simulation</th>\n",
       "      <th>Score ARI</th>\n",
       "    </tr>\n",
       "  </thead>\n",
       "  <tbody>\n",
       "    <tr>\n",
       "      <th>0</th>\n",
       "      <td>31-12-2017</td>\n",
       "      <td>1.000000</td>\n",
       "    </tr>\n",
       "    <tr>\n",
       "      <th>1</th>\n",
       "      <td>07-01-2018</td>\n",
       "      <td>0.991896</td>\n",
       "    </tr>\n",
       "    <tr>\n",
       "      <th>2</th>\n",
       "      <td>14-01-2018</td>\n",
       "      <td>0.988122</td>\n",
       "    </tr>\n",
       "    <tr>\n",
       "      <th>3</th>\n",
       "      <td>21-01-2018</td>\n",
       "      <td>0.757095</td>\n",
       "    </tr>\n",
       "    <tr>\n",
       "      <th>4</th>\n",
       "      <td>28-01-2018</td>\n",
       "      <td>0.764628</td>\n",
       "    </tr>\n",
       "    <tr>\n",
       "      <th>5</th>\n",
       "      <td>04-02-2018</td>\n",
       "      <td>0.756842</td>\n",
       "    </tr>\n",
       "    <tr>\n",
       "      <th>6</th>\n",
       "      <td>11-02-2018</td>\n",
       "      <td>0.762808</td>\n",
       "    </tr>\n",
       "    <tr>\n",
       "      <th>7</th>\n",
       "      <td>18-02-2018</td>\n",
       "      <td>0.944488</td>\n",
       "    </tr>\n",
       "    <tr>\n",
       "      <th>8</th>\n",
       "      <td>25-02-2018</td>\n",
       "      <td>0.500742</td>\n",
       "    </tr>\n",
       "    <tr>\n",
       "      <th>9</th>\n",
       "      <td>04-03-2018</td>\n",
       "      <td>0.928653</td>\n",
       "    </tr>\n",
       "    <tr>\n",
       "      <th>10</th>\n",
       "      <td>11-03-2018</td>\n",
       "      <td>0.912883</td>\n",
       "    </tr>\n",
       "    <tr>\n",
       "      <th>11</th>\n",
       "      <td>18-03-2018</td>\n",
       "      <td>0.532025</td>\n",
       "    </tr>\n",
       "    <tr>\n",
       "      <th>12</th>\n",
       "      <td>25-03-2018</td>\n",
       "      <td>0.587348</td>\n",
       "    </tr>\n",
       "    <tr>\n",
       "      <th>13</th>\n",
       "      <td>01-04-2018</td>\n",
       "      <td>0.469512</td>\n",
       "    </tr>\n",
       "    <tr>\n",
       "      <th>14</th>\n",
       "      <td>08-04-2018</td>\n",
       "      <td>0.419871</td>\n",
       "    </tr>\n",
       "    <tr>\n",
       "      <th>15</th>\n",
       "      <td>15-04-2018</td>\n",
       "      <td>0.776249</td>\n",
       "    </tr>\n",
       "    <tr>\n",
       "      <th>16</th>\n",
       "      <td>22-04-2018</td>\n",
       "      <td>0.477055</td>\n",
       "    </tr>\n",
       "    <tr>\n",
       "      <th>17</th>\n",
       "      <td>29-04-2018</td>\n",
       "      <td>0.787326</td>\n",
       "    </tr>\n",
       "    <tr>\n",
       "      <th>18</th>\n",
       "      <td>06-05-2018</td>\n",
       "      <td>0.469301</td>\n",
       "    </tr>\n",
       "    <tr>\n",
       "      <th>19</th>\n",
       "      <td>13-05-2018</td>\n",
       "      <td>0.779015</td>\n",
       "    </tr>\n",
       "    <tr>\n",
       "      <th>20</th>\n",
       "      <td>20-05-2018</td>\n",
       "      <td>0.774223</td>\n",
       "    </tr>\n",
       "    <tr>\n",
       "      <th>21</th>\n",
       "      <td>27-05-2018</td>\n",
       "      <td>0.774443</td>\n",
       "    </tr>\n",
       "    <tr>\n",
       "      <th>22</th>\n",
       "      <td>03-06-2018</td>\n",
       "      <td>0.760182</td>\n",
       "    </tr>\n",
       "    <tr>\n",
       "      <th>23</th>\n",
       "      <td>10-06-2018</td>\n",
       "      <td>0.757461</td>\n",
       "    </tr>\n",
       "    <tr>\n",
       "      <th>24</th>\n",
       "      <td>17-06-2018</td>\n",
       "      <td>0.977880</td>\n",
       "    </tr>\n",
       "    <tr>\n",
       "      <th>25</th>\n",
       "      <td>24-06-2018</td>\n",
       "      <td>0.465485</td>\n",
       "    </tr>\n",
       "    <tr>\n",
       "      <th>26</th>\n",
       "      <td>01-07-2018</td>\n",
       "      <td>0.755171</td>\n",
       "    </tr>\n",
       "    <tr>\n",
       "      <th>27</th>\n",
       "      <td>08-07-2018</td>\n",
       "      <td>0.473149</td>\n",
       "    </tr>\n",
       "    <tr>\n",
       "      <th>28</th>\n",
       "      <td>15-07-2018</td>\n",
       "      <td>0.735934</td>\n",
       "    </tr>\n",
       "    <tr>\n",
       "      <th>29</th>\n",
       "      <td>22-07-2018</td>\n",
       "      <td>0.736348</td>\n",
       "    </tr>\n",
       "    <tr>\n",
       "      <th>30</th>\n",
       "      <td>29-07-2018</td>\n",
       "      <td>0.734965</td>\n",
       "    </tr>\n",
       "    <tr>\n",
       "      <th>31</th>\n",
       "      <td>05-08-2018</td>\n",
       "      <td>0.723224</td>\n",
       "    </tr>\n",
       "    <tr>\n",
       "      <th>32</th>\n",
       "      <td>12-08-2018</td>\n",
       "      <td>0.738078</td>\n",
       "    </tr>\n",
       "    <tr>\n",
       "      <th>33</th>\n",
       "      <td>19-08-2018</td>\n",
       "      <td>0.755138</td>\n",
       "    </tr>\n",
       "    <tr>\n",
       "      <th>34</th>\n",
       "      <td>26-08-2018</td>\n",
       "      <td>0.754467</td>\n",
       "    </tr>\n",
       "  </tbody>\n",
       "</table>\n",
       "</div>"
      ],
      "text/plain": [
       "   Date simulation  Score ARI\n",
       "0       31-12-2017   1.000000\n",
       "1       07-01-2018   0.991896\n",
       "2       14-01-2018   0.988122\n",
       "3       21-01-2018   0.757095\n",
       "4       28-01-2018   0.764628\n",
       "5       04-02-2018   0.756842\n",
       "6       11-02-2018   0.762808\n",
       "7       18-02-2018   0.944488\n",
       "8       25-02-2018   0.500742\n",
       "9       04-03-2018   0.928653\n",
       "10      11-03-2018   0.912883\n",
       "11      18-03-2018   0.532025\n",
       "12      25-03-2018   0.587348\n",
       "13      01-04-2018   0.469512\n",
       "14      08-04-2018   0.419871\n",
       "15      15-04-2018   0.776249\n",
       "16      22-04-2018   0.477055\n",
       "17      29-04-2018   0.787326\n",
       "18      06-05-2018   0.469301\n",
       "19      13-05-2018   0.779015\n",
       "20      20-05-2018   0.774223\n",
       "21      27-05-2018   0.774443\n",
       "22      03-06-2018   0.760182\n",
       "23      10-06-2018   0.757461\n",
       "24      17-06-2018   0.977880\n",
       "25      24-06-2018   0.465485\n",
       "26      01-07-2018   0.755171\n",
       "27      08-07-2018   0.473149\n",
       "28      15-07-2018   0.735934\n",
       "29      22-07-2018   0.736348\n",
       "30      29-07-2018   0.734965\n",
       "31      05-08-2018   0.723224\n",
       "32      12-08-2018   0.738078\n",
       "33      19-08-2018   0.755138\n",
       "34      26-08-2018   0.754467"
      ]
     },
     "metadata": {},
     "output_type": "display_data"
    }
   ],
   "source": [
    "display(df_ari_scores)"
   ]
  },
  {
   "cell_type": "markdown",
   "id": "4b96e5d5-dedb-4b08-a1a4-62013eedadea",
   "metadata": {},
   "source": [
    "* Dès la 3ème semaine le score ARI descend en dessous de 0.8"
   ]
  },
  {
   "cell_type": "markdown",
   "id": "c5b8e29e-b52b-4e05-ad8e-b2292b251b8f",
   "metadata": {},
   "source": [
    "## 6.3 Visualisation"
   ]
  },
  {
   "cell_type": "code",
   "execution_count": 55,
   "id": "6050a34e-b262-4b79-806d-7e6ee022d4a5",
   "metadata": {},
   "outputs": [
    {
     "data": {
      "image/png": "[encoded data removed]",
      "text/plain": [
       "<Figure size 1500x800 with 1 Axes>"
      ]
     },
     "metadata": {},
     "output_type": "display_data"
    }
   ],
   "source": [
    "# Affichage d'un graphique en barres\n",
    "plt.figure(figsize=(15, 8))\n",
    "sns.barplot(x=df_ari_scores['Date simulation'], y=df_ari_scores['Score ARI'], color='dodgerblue')\n",
    "\n",
    "# Ligne à 0.80\n",
    "plt.axhline(y=0.8, color='orange', linestyle='--', label='Seuil 0.8', linewidth=3)\n",
    "plt.xticks(rotation=45, ha='right')\n",
    "\n",
    "# Ajout des nombres de semaines en bas des barres\n",
    "for index, value in enumerate(df_ari_scores['Score ARI']):\n",
    "    plt.text(x=index, y=0.02, s=f'{index}', ha='center', c='white')\n",
    "\n",
    "plt.title('Évolution des scores ARI par semaines', fontsize=14, pad=10)\n",
    "plt.xlabel('')\n",
    "plt.ylabel('Score ARI')\n",
    "plt.legend()\n",
    "plt.tight_layout()\n",
    "\n",
    "plt.show()"
   ]
  },
  {
   "cell_type": "markdown",
   "id": "8c276743-621d-4d05-9608-2d48f1dc4daa",
   "metadata": {},
   "source": [
    "* Score ARI < 0.8 dès la 3ème semaine\n",
    "* Stabilité observée entre semaine 28 et semaine 34"
   ]
  },
  {
   "cell_type": "markdown",
   "id": "edb3d9e8-eea1-4fef-89a4-d5724774704b",
   "metadata": {},
   "source": [
    "## 6.4 Un modèle entrainé le 15/07/2018 serait-il fiable jusqu'au 31/08/2018 ?"
   ]
  },
  {
   "cell_type": "markdown",
   "id": "311454ce-09e9-4079-92fb-a82d398925b3",
   "metadata": {},
   "source": [
    "### 6.4.1 Préparation du modèle D0"
   ]
  },
  {
   "cell_type": "code",
   "execution_count": 56,
   "id": "d5a2f3ec-23c3-42bd-ae19-02806eaef792",
   "metadata": {},
   "outputs": [],
   "source": [
    "# Date D0\n",
    "d0_date = pd.to_datetime('2018-07-15')"
   ]
  },
  {
   "cell_type": "code",
   "execution_count": 57,
   "id": "099ecda1-0dba-4667-a659-02e1a561a00a",
   "metadata": {},
   "outputs": [],
   "source": [
    "# Calcul des features RFM à d0\n",
    "d0_RFM_features = get_RFM_features(df_features, d0_date)"
   ]
  },
  {
   "cell_type": "code",
   "execution_count": 58,
   "id": "a32f2647-60b3-4d55-b339-d724ee2c9656",
   "metadata": {},
   "outputs": [],
   "source": [
    "# Transformations des features avec récupération des transformers\n",
    "d0_RFM_transformed_features, d0_recence_scaler, d0_montant_scaler = add_transformed_RFM_features(d0_RFM_features)"
   ]
  },
  {
   "cell_type": "code",
   "execution_count": 59,
   "id": "34d977c4-a6fc-4f31-986f-de58cd078ac2",
   "metadata": {},
   "outputs": [],
   "source": [
    "# Fit et sauvegarde du modèle \n",
    "d0_kmeans = KMeans(n_clusters=6, random_state=0, init='k-means++')\n",
    "d0_kmeans_fitted = d0_kmeans.fit(d0_RFM_transformed_features[features])"
   ]
  },
  {
   "cell_type": "markdown",
   "id": "1879999f-926b-4aa3-bc0f-764702f7fcb4",
   "metadata": {},
   "source": [
    "### 6.4.2 Calcul des scores ARI"
   ]
  },
  {
   "cell_type": "code",
   "execution_count": 60,
   "id": "49c962d5-c17f-417c-88c3-52030e6b82f7",
   "metadata": {},
   "outputs": [],
   "source": [
    "d_end_date = pd.to_datetime('2018-09-01')"
   ]
  },
  {
   "cell_type": "code",
   "execution_count": 61,
   "id": "263466da-e19e-4e58-bf7f-8ef2b2e6baee",
   "metadata": {},
   "outputs": [],
   "source": [
    "# Stockage des résultats ARI\n",
    "ari_scores = []"
   ]
  },
  {
   "cell_type": "code",
   "execution_count": 62,
   "id": "776a2c16-d9cf-4e7f-8a79-f4776aa6c863",
   "metadata": {},
   "outputs": [],
   "source": [
    "# Date de filtrage des données pour la première prédiction\n",
    "# En fixant la première date de prédiction à la date d0, on doit trouver un score ARI de 1 pour la première prédiction\n",
    "dn_date = d0_date\n",
    "\n",
    "# Boucle jusqu'à la fin de période\n",
    "while dn_date < d_end_date:\n",
    "    # Calcul des features RFM en fonction de la date des données de prédiction\n",
    "    dn_RFM_features = get_RFM_features(df_features, dn_date)\n",
    "\n",
    "    # Transformation des features en utilisant les transformers d0\n",
    "    dn_RFM_transformed_features, _, _ = add_transformed_RFM_features(dn_RFM_features, d0_recence_scaler, d0_montant_scaler)\n",
    "\n",
    "    # Récupération des labels à la date dn_date\n",
    "    dn_kmeans = KMeans(n_clusters=6, random_state=0, init='k-means++')\n",
    "    dn_kmeans.fit(dn_RFM_transformed_features[features])\n",
    "    dn_RFM_features['Labels dn'] = dn_kmeans.labels_\n",
    "    \n",
    "    #--------------------\n",
    "\n",
    "    # Predict des labels sur les données dn_date avec le modèle entraîné en d0_date\n",
    "    dn_RFM_features['Labels d0'] = d0_kmeans.predict(dn_RFM_transformed_features[features])\n",
    "\n",
    "    # Calcul du score ARI\n",
    "    ari_score = adjusted_rand_score(dn_RFM_features['Labels d0'], dn_RFM_features['Labels dn'])\n",
    "\n",
    "    # Ajout des résultats à la listes des scores ARI\n",
    "    ari_scores.append((dn_date.strftime('%d-%m-%Y'), ari_score))\n",
    "\n",
    "    # Préparation de la simulation suivante en décalant dn_date d'1 semaine\n",
    "    dn_date += simul_frequency"
   ]
  },
  {
   "cell_type": "markdown",
   "id": "809e9b8a-5515-4a23-900f-d91b9a34f2c9",
   "metadata": {},
   "source": [
    "* Conversion en DataFrame"
   ]
  },
  {
   "cell_type": "code",
   "execution_count": 63,
   "id": "4ba78202-d4cc-4f16-a7a9-745a88bb1372",
   "metadata": {},
   "outputs": [],
   "source": [
    "df_ari_scores = pd.DataFrame(ari_scores, columns=['Date simulation', 'Score ARI'])"
   ]
  },
  {
   "cell_type": "markdown",
   "id": "30b6fa1b-fee8-481b-8a05-1e8abf7ad721",
   "metadata": {},
   "source": [
    "* Affichage des résultats"
   ]
  },
  {
   "cell_type": "code",
   "execution_count": 64,
   "id": "562a05d5-61e4-4b64-8fab-d5f913aa1ba8",
   "metadata": {},
   "outputs": [
    {
     "data": {
      "text/html": [
       "<div>\n",
       "<style scoped>\n",
       "    .dataframe tbody tr th:only-of-type {\n",
       "        vertical-align: middle;\n",
       "    }\n",
       "\n",
       "    .dataframe tbody tr th {\n",
       "        vertical-align: top;\n",
       "    }\n",
       "\n",
       "    .dataframe thead th {\n",
       "        text-align: right;\n",
       "    }\n",
       "</style>\n",
       "<table border=\"1\" class=\"dataframe\">\n",
       "  <thead>\n",
       "    <tr style=\"text-align: right;\">\n",
       "      <th></th>\n",
       "      <th>Date simulation</th>\n",
       "      <th>Score ARI</th>\n",
       "    </tr>\n",
       "  </thead>\n",
       "  <tbody>\n",
       "    <tr>\n",
       "      <th>0</th>\n",
       "      <td>15-07-2018</td>\n",
       "      <td>1.000000</td>\n",
       "    </tr>\n",
       "    <tr>\n",
       "      <th>1</th>\n",
       "      <td>22-07-2018</td>\n",
       "      <td>0.986575</td>\n",
       "    </tr>\n",
       "    <tr>\n",
       "      <th>2</th>\n",
       "      <td>29-07-2018</td>\n",
       "      <td>0.986939</td>\n",
       "    </tr>\n",
       "    <tr>\n",
       "      <th>3</th>\n",
       "      <td>05-08-2018</td>\n",
       "      <td>0.988861</td>\n",
       "    </tr>\n",
       "    <tr>\n",
       "      <th>4</th>\n",
       "      <td>12-08-2018</td>\n",
       "      <td>0.973610</td>\n",
       "    </tr>\n",
       "    <tr>\n",
       "      <th>5</th>\n",
       "      <td>19-08-2018</td>\n",
       "      <td>0.960012</td>\n",
       "    </tr>\n",
       "    <tr>\n",
       "      <th>6</th>\n",
       "      <td>26-08-2018</td>\n",
       "      <td>0.955367</td>\n",
       "    </tr>\n",
       "  </tbody>\n",
       "</table>\n",
       "</div>"
      ],
      "text/plain": [
       "  Date simulation  Score ARI\n",
       "0      15-07-2018   1.000000\n",
       "1      22-07-2018   0.986575\n",
       "2      29-07-2018   0.986939\n",
       "3      05-08-2018   0.988861\n",
       "4      12-08-2018   0.973610\n",
       "5      19-08-2018   0.960012\n",
       "6      26-08-2018   0.955367"
      ]
     },
     "metadata": {},
     "output_type": "display_data"
    }
   ],
   "source": [
    "display(df_ari_scores)"
   ]
  },
  {
   "cell_type": "markdown",
   "id": "2b02f283-85c9-4ecd-aa77-f983ce2f0907",
   "metadata": {},
   "source": [
    "* Le score ARI reste stable sur toute la période, sans descendre au dessous de 0.95"
   ]
  },
  {
   "cell_type": "markdown",
   "id": "654d453c-de37-4b3c-8f6a-eeb6da703f40",
   "metadata": {},
   "source": [
    "### 6.4.3 Visualisation"
   ]
  },
  {
   "cell_type": "code",
   "execution_count": 65,
   "id": "b3a87986-fd32-4880-b619-6db7e128857c",
   "metadata": {},
   "outputs": [
    {
     "data": {
      "image/png": "[encoded data removed]",
      "text/plain": [
       "<Figure size 1500x800 with 1 Axes>"
      ]
     },
     "metadata": {},
     "output_type": "display_data"
    }
   ],
   "source": [
    "# Affichage d'un graphique en barres\n",
    "plt.figure(figsize=(15, 8))\n",
    "sns.barplot(x=df_ari_scores['Date simulation'], y=df_ari_scores['Score ARI'], color='dodgerblue')\n",
    "\n",
    "# Ligne à 0.80\n",
    "plt.axhline(y=0.8, color='orange', linestyle='--', label='Seuil 0.8', linewidth=3)\n",
    "plt.xticks(rotation=45, ha='right')\n",
    "\n",
    "# Ajout des nombres de semaines en bas des barres\n",
    "for index, value in enumerate(df_ari_scores['Score ARI']):\n",
    "    # plt.text(x=index, y=0.02, s=f'{len(df_ari_scores) - index}', ha='center', c='white')\n",
    "    plt.text(x=index, y=0.02, s=f'{index}', ha='center', c='white')\n",
    "\n",
    "plt.title('Évolution des scores ARI par semaines', fontsize=14, pad=10)\n",
    "plt.xlabel('')\n",
    "plt.ylabel('Score ARI')\n",
    "plt.legend()\n",
    "plt.tight_layout()\n",
    "\n",
    "plt.show()"
   ]
  },
  {
   "cell_type": "markdown",
   "id": "0e2ee825-6d13-455f-b914-b8f93b14f63b",
   "metadata": {},
   "source": [
    "### 6.4.4 Conclusion"
   ]
  },
  {
   "cell_type": "markdown",
   "id": "da6c6fff-caee-4d49-a740-cee8326bc20e",
   "metadata": {},
   "source": [
    "* Malgré une excellente peformance des prédictions sur les 6 dernières semaines, un modèle entraîné fin 2017 a montré une qualité de prédiction fortement dégradée au bout de 3 semaines\n",
    "* Recommandation : réentraîner le modèle tous les 15 jours"
   ]
  },
  {
   "cell_type": "code",
   "execution_count": null,
   "id": "2fdafd28-fcc5-4e14-9b20-db6db5d052b6",
   "metadata": {},
   "outputs": [],
   "source": []
  }
 ],
 "metadata": {
  "kernelspec": {
   "display_name": "Python 3 (ipykernel)",
   "language": "python",
   "name": "python3"
  },
  "language_info": {
   "codemirror_mode": {
    "name": "ipython",
    "version": 3
   },
   "file_extension": ".py",
   "mimetype": "text/x-python",
   "name": "python",
   "nbconvert_exporter": "python",
   "pygments_lexer": "ipython3",
   "version": "3.11.8"
  }
 },
 "nbformat": 4,
 "nbformat_minor": 5
}
